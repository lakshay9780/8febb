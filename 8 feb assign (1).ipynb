{
 "cells": [
  {
   "cell_type": "markdown",
   "id": "909b7a92-dc95-40d9-b5a3-28895a973c37",
   "metadata": {},
   "source": [
    "# 8 feb assignment"
   ]
  },
  {
   "cell_type": "markdown",
   "id": "70011afb-0001-47a3-bc60-81aa79f70f5e",
   "metadata": {},
   "source": [
    "# Answer-1"
   ]
  },
  {
   "cell_type": "code",
   "execution_count": 1,
   "id": "273f59c7-5161-445b-9511-b9af31b70674",
   "metadata": {},
   "outputs": [
    {
     "name": "stdout",
     "output_type": "stream",
     "text": [
      "I have 3 sides\n",
      "I have 4 sides\n",
      "I have 5 sides\n",
      "I have 6 sides\n"
     ]
    }
   ],
   "source": [
    "# Abstraction is used to hide the internal functionality of the function from the users. The users only interact with the basic implementation of the function,\n",
    "# but inner working is hidden.User is familiar with that \"what function does\" but they don't know \"how it does.\"\n",
    "# In Python, abstraction can be achieved by using abstract classes and interfaces.\n",
    " \n",
    "from abc import ABC, abstractmethod\n",
    " \n",
    "class Polygon(ABC):\n",
    " \n",
    "    @abstractmethod\n",
    "    def noofsides(self):\n",
    "        pass\n",
    " \n",
    "class Triangle(Polygon):\n",
    " \n",
    "    # overriding abstract method\n",
    "    def noofsides(self):\n",
    "        print(\"I have 3 sides\")\n",
    " \n",
    "class Pentagon(Polygon):\n",
    " \n",
    "    # overriding abstract method\n",
    "    def noofsides(self):\n",
    "        print(\"I have 5 sides\")\n",
    " \n",
    "class Hexagon(Polygon):\n",
    " \n",
    "    # overriding abstract method\n",
    "    def noofsides(self):\n",
    "        print(\"I have 6 sides\")\n",
    " \n",
    "class Quadrilateral(Polygon):\n",
    " \n",
    "    # overriding abstract method\n",
    "    def noofsides(self):\n",
    "        print(\"I have 4 sides\")\n",
    " \n",
    "# Driver code\n",
    "R = Triangle()\n",
    "R.noofsides()\n",
    " \n",
    "K = Quadrilateral()\n",
    "K.noofsides()\n",
    " \n",
    "R = Pentagon()\n",
    "R.noofsides()\n",
    " \n",
    "K = Hexagon()\n",
    "K.noofsides()"
   ]
  },
  {
   "cell_type": "markdown",
   "id": "80e3b299-529c-44bd-94a5-180727b074f2",
   "metadata": {},
   "source": [
    "# Answer-2"
   ]
  },
  {
   "cell_type": "code",
   "execution_count": 2,
   "id": "4b591699-fdea-4955-b540-040ea9969fb7",
   "metadata": {},
   "outputs": [],
   "source": [
    "# Abstraction\n",
    "\n",
    "# It is the process of gaining information.\n",
    "# The problems in this technique are solved at the interface level.\n",
    "# It helps hide the unwanted details/information.\n",
    "# It can be implemented using abstract classes and interfaces.\n",
    "# The complexities of the implementation are hidden using interface and abstract class.\n",
    "# The abstraction can be performed using objects that are encapsulated within a single module.\n",
    "\n",
    "# Encapsulation\n",
    "\n",
    "# It is a method that helps wrap up data into a single module.\n",
    "# Problems in encapsulation are solved at the implementation level.\n",
    "# The data is hidden using methods such as getters and setters.\n",
    "# It helps hide data using a single entity, or using a unit with the help of method that helps protect the information.\n",
    "# It can be implemented using access modifiers like public, private and protected.\n",
    "# Objects in encapsulation don’t need to be in abstraction."
   ]
  },
  {
   "cell_type": "code",
   "execution_count": 4,
   "id": "a767926e-f76e-478a-9c1e-40143263bd82",
   "metadata": {},
   "outputs": [
    {
     "name": "stdout",
     "output_type": "stream",
     "text": [
      "Calling protected member of base class:  2\n",
      "Calling modified protected member outside class:  3\n",
      "Accessing protected member of obj1:  3\n"
     ]
    }
   ],
   "source": [
    "# Encapsulation example\n",
    "class Base:\n",
    "    def __init__(self):\n",
    "        self._a = 2\n",
    " \n",
    "class Derived(Base):\n",
    "    def __init__(self):\n",
    " \n",
    "        Base.__init__(self)\n",
    "        print(\"Calling protected member of base class: \",self._a)\n",
    " \n",
    "        self._a = 3\n",
    "        print(\"Calling modified protected member outside class: \", self._a)\n",
    " \n",
    " \n",
    "obj1 = Derived()\n",
    "obj2 = Base()\n",
    " \n",
    "print(\"Accessing protected member of obj1: \", obj1._a)"
   ]
  },
  {
   "cell_type": "code",
   "execution_count": 6,
   "id": "c49b845a-0945-42d0-94fc-38da58297859",
   "metadata": {},
   "outputs": [
    {
     "name": "stdout",
     "output_type": "stream",
     "text": [
      "I have 3 sides\n",
      "I have 4 sides\n",
      "I have 5 sides\n",
      "I have 6 sides\n"
     ]
    }
   ],
   "source": [
    "# Abstraction example\n",
    "from abc import ABC, abstractmethod\n",
    " \n",
    "class Polygon(ABC):\n",
    " \n",
    "    @abstractmethod\n",
    "    def noofsides(self):\n",
    "        pass\n",
    " \n",
    "class Triangle(Polygon):\n",
    " \n",
    "    def noofsides(self):\n",
    "        print(\"I have 3 sides\")\n",
    " \n",
    "class Pentagon(Polygon):\n",
    " \n",
    "    def noofsides(self):\n",
    "        print(\"I have 5 sides\")\n",
    " \n",
    "class Hexagon(Polygon):\n",
    "\n",
    "    def noofsides(self):\n",
    "        print(\"I have 6 sides\")\n",
    " \n",
    "class Quadrilateral(Polygon):\n",
    " \n",
    "    def noofsides(self):\n",
    "        print(\"I have 4 sides\")\n",
    " \n",
    "R = Triangle()\n",
    "R.noofsides()\n",
    " \n",
    "K = Quadrilateral()\n",
    "K.noofsides()\n",
    " \n",
    "R = Pentagon()\n",
    "R.noofsides()\n",
    "\n",
    "K = Hexagon()\n",
    "K.noofsides()"
   ]
  },
  {
   "cell_type": "markdown",
   "id": "f1cc9df0-c6d0-437d-bf8b-6e322c8382fa",
   "metadata": {},
   "source": [
    "# Answer-3"
   ]
  },
  {
   "cell_type": "code",
   "execution_count": 8,
   "id": "62419401-7d50-4bff-a771-f9cdbe6bed2a",
   "metadata": {},
   "outputs": [],
   "source": [
    "# The ABC module in Python is a collection of abstract base classes that are used to define the common interface for a set of related objects (known as a hierarchy).\n",
    "# The purpose of an ABC is to provide a way to share functionality between related objects without the need to subclass from a common base class.\n",
    "# In other words, an ABC allows you to define a template for a group of objects that can be used to enforce a common interface.\n",
    "\n",
    "# The main goal of the abstract base class is to provide a standardized way to test whether an object adheres to a given specification. \n",
    "# It can also prevent any attempt to instantiate a subclass that doesn’t override a particular method in the superclass. \n",
    "# And finally, using an abstract class, a class can derive identity from another class without any object inheritance."
   ]
  },
  {
   "cell_type": "markdown",
   "id": "a1ba43c6-7fd8-483e-ba02-78df90249efd",
   "metadata": {},
   "source": [
    "# Answer-4"
   ]
  },
  {
   "cell_type": "code",
   "execution_count": 9,
   "id": "a1986d17-2c2a-406a-815b-00d97ad68a93",
   "metadata": {},
   "outputs": [],
   "source": [
    "# Data Abstraction in Python can be achieved through creating abstract classes and inheriting them later.\n",
    "# The process by which data and functions are defined in such a way that only essential details can be seen and unnecessary implementations are hidden is called Data Abstraction.\n",
    "# The main focus of data abstraction is to separate the interface and the implementation of the program."
   ]
  },
  {
   "cell_type": "markdown",
   "id": "b0c3d9d8-d148-4de1-a215-442da69b5817",
   "metadata": {},
   "source": [
    "# Answer-5"
   ]
  },
  {
   "cell_type": "code",
   "execution_count": 10,
   "id": "3d504312-fe02-4a38-8761-e80bd5baaeaf",
   "metadata": {},
   "outputs": [],
   "source": [
    "# No,we cannot create an instance of an abstract class\n",
    "# This means that we cannot create objects of an abstract class and these are only meant to be inherited.\n",
    "# Then an object of the derived class is used to access the features of the base class. These are specifically defined to lay a foundation of other classes that exhibit common behavior\n",
    "# or characteristics."
   ]
  },
  {
   "cell_type": "code",
   "execution_count": null,
   "id": "c12e786d-567b-4046-a525-a8ebb917060f",
   "metadata": {},
   "outputs": [],
   "source": []
  }
 ],
 "metadata": {
  "kernelspec": {
   "display_name": "Python 3 (ipykernel)",
   "language": "python",
   "name": "python3"
  },
  "language_info": {
   "codemirror_mode": {
    "name": "ipython",
    "version": 3
   },
   "file_extension": ".py",
   "mimetype": "text/x-python",
   "name": "python",
   "nbconvert_exporter": "python",
   "pygments_lexer": "ipython3",
   "version": "3.10.8"
  }
 },
 "nbformat": 4,
 "nbformat_minor": 5
}
